{
  "cells": [
    {
      "cell_type": "markdown",
      "metadata": {
        "id": "view-in-github",
        "colab_type": "text"
      },
      "source": [
        "<a href=\"https://colab.research.google.com/github/xinle1030/RecipeTransformer/blob/Jon/FIT3170.ipynb\" target=\"_parent\"><img src=\"https://colab.research.google.com/assets/colab-badge.svg\" alt=\"Open In Colab\"/></a>"
      ]
    },
    {
      "cell_type": "code",
      "execution_count": null,
      "metadata": {
        "colab": {
          "base_uri": "https://localhost:8080/"
        },
        "id": "GgfMvNH9heog",
        "outputId": "b75d2302-ec05-4c51-ec35-1090e4701ad6"
      },
      "outputs": [
        {
          "output_type": "stream",
          "name": "stderr",
          "text": [
            "[nltk_data] Downloading package omw-1.4 to /root/nltk_data...\n",
            "[nltk_data]   Package omw-1.4 is already up-to-date!\n",
            "[nltk_data] Downloading package wordnet to /root/nltk_data...\n",
            "[nltk_data]   Package wordnet is already up-to-date!\n"
          ]
        }
      ],
      "source": [
        "import nltk\n",
        "nltk.download('omw-1.4')\n",
        "nltk.download('wordnet')\n",
        "from nltk.corpus import wordnet\n",
        "from nltk.tokenize import RegexpTokenizer\n",
        "from nltk.corpus import stopwords\n",
        "import spacy\n",
        "from nltk import chunk,pos_tag\n",
        "from spacy.lang.en import English\n",
        "parser = English()\n",
        "nlp = spacy.load(\"en_core_web_sm\")\n",
        "import json\n",
        "import re"
      ]
    },
    {
      "cell_type": "markdown",
      "source": [
        "# **1. Get and clean synonyms and save to synonyms.json file**"
      ],
      "metadata": {
        "id": "3HK17gcOSvYq"
      }
    },
    {
      "cell_type": "code",
      "execution_count": null,
      "metadata": {
        "id": "799pTPGZlBAL"
      },
      "outputs": [],
      "source": [
        "# Get Synonyms for attribute fucntion \n",
        "def get_synonyms(word: str):\n",
        "    synonyms = []\n",
        "    for syn in wordnet.synsets(word):\n",
        "        for i in syn.lemmas():\n",
        "            synonyms.append(i.name())\n",
        "    synonyms.append(word)\n",
        "    return set(synonyms) \n",
        "\n",
        "# Remove unused synonyms from list of synonyms\n",
        "def clean_synonyms(synonym_list, unused_synonyms):\n",
        "  for synonym in unused_synonyms:\n",
        "    if synonym in synonym_list:\n",
        "      synonym_list.remove(synonym)\n",
        "  ret_list = []\n",
        "  for synonym in synonym_list:\n",
        "    ret_list.append(synonym.lower())\n",
        "  return ret_list\n",
        "\n",
        "# Get synonyms for attribute \n",
        "cook_time_synonyms = get_synonyms('cook')\n",
        "serving_synonyms = get_synonyms('Serving')\n",
        "prep_time_synonyms = get_synonyms('Prep')\n",
        "ingredient_synonyms = get_synonyms('Ingredients')\n",
        "instruction_synonyms = get_synonyms('Method')\n",
        "tips_synonyms = get_synonyms('tips')\n",
        "nutrient_synonyms = get_synonyms('Nutrition')\n",
        "cuisine_synonyms = get_synonyms('Cuisine')\n",
        "category_synonyms = get_synonyms('Categories')\n",
        "\n",
        "# Remove some synonyms from wordnet \n",
        "cook_time_synonyms = clean_synonyms(cook_time_synonyms, ['James_Cook', 'Captain_Cook', 'Captain_James_Cook', 'wangle', 'ready', 'falsify', 'make', 'Cook', 'prepare', 'misrepresent', 'fake', 'manipulate', 'fix', 'fudge'])\n",
        "serving_synonyms = clean_synonyms(serving_synonyms, ['attend_to', 'suffice', 'dish_out', 'portion', 'helping', 'function', 'wait_on', 'answer', 'swear_out', 'attend', 'do', 'help', 'process', 'serving', 'dish'])\n",
        "serving_synonyms.append(\"serves\")\n",
        "prep_time_synonyms = clean_synonyms(prep_time_synonyms, ['homework'])\n",
        "ingredient_synonyms = clean_synonyms(ingredient_synonyms, ['fixings'])\n",
        "instruction_synonyms = clean_synonyms(instruction_synonyms, ['method_acting'])\n",
        "tips_synonyms = clean_synonyms(tips_synonyms, ['tippytoe', 'gratuity', 'lead', 'bakshish', 'steer', 'lean', 'summit', 'crest', 'backsheesh', 'tiptoe', 'baksheesh', 'confidential_information', 'hint', 'angle', 'slant', 'topple', 'tumble', 'top', 'wind', 'bakshis', 'crown', 'fee', 'tap', 'tip_off', 'tilt', 'bung', 'pourboire'])\n",
        "nutrient_synonyms = clean_synonyms(nutrient_synonyms, ['victuals'])\n",
        "cuisine_synonyms = clean_synonyms(cuisine_synonyms, [])\n",
        "category_synonyms = clean_synonyms(category_synonyms, [])\n",
        "\n",
        "# Combine all synonyms in a single list\n",
        "list_of_attribute = [serving_synonyms, prep_time_synonyms, ingredient_synonyms, instruction_synonyms,\n",
        "                     tips_synonyms, nutrient_synonyms, cuisine_synonyms, category_synonyms]\n"
      ]
    },
    {
      "cell_type": "code",
      "execution_count": null,
      "metadata": {
        "id": "FOOLNL-Zma61"
      },
      "outputs": [],
      "source": [
        "# Write value stored in list_of_attribute to synonyms.json file\n",
        "\n",
        "with open('important_files/synonyms.json', 'r') as f:\n",
        "  json_object = json.load(f)\n",
        "  for i, key in enumerate(json_object):\n",
        "    json_object[key] = list(list_of_attribute[i])\n",
        "\n",
        "with open('synonyms.json', 'w') as f:\n",
        "    json.dump(json_object, f, indent=2)"
      ]
    },
    {
      "cell_type": "markdown",
      "source": [
        "# **2a. Read Input Text File (Using file upload)**"
      ],
      "metadata": {
        "id": "UI4x5xXzSfKV"
      }
    },
    {
      "cell_type": "code",
      "source": [
        "# Read input file and store text from uploaded text file into \"text\"\n",
        "from google.colab import files\n",
        "uploaded = files.upload()\n",
        "\n",
        "for fn in uploaded.keys():\n",
        "    text = uploaded.get(fn).decode(errors='replace')"
      ],
      "metadata": {
        "colab": {
          "resources": {
            "http://localhost:8080/nbextensions/google.colab/files.js": {
              "data": "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",
              "ok": true,
              "headers": [
                [
                  "content-type",
                  "application/javascript"
                ]
              ],
              "status": 200,
              "status_text": ""
            }
          },
          "base_uri": "https://localhost:8080/",
          "height": 73
        },
        "id": "aO1O6vq5uAkh",
        "outputId": "cde7fbb0-7d40-4c5d-dc3e-1d166fcfa35b"
      },
      "execution_count": null,
      "outputs": [
        {
          "output_type": "display_data",
          "data": {
            "text/plain": [
              "<IPython.core.display.HTML object>"
            ],
            "text/html": [
              "\n",
              "     <input type=\"file\" id=\"files-f3a89779-fb77-4fcf-8e5d-642f4c7e1bc2\" name=\"files[]\" multiple disabled\n",
              "        style=\"border:none\" />\n",
              "     <output id=\"result-f3a89779-fb77-4fcf-8e5d-642f4c7e1bc2\">\n",
              "      Upload widget is only available when the cell has been executed in the\n",
              "      current browser session. Please rerun this cell to enable.\n",
              "      </output>\n",
              "      <script src=\"/nbextensions/google.colab/files.js\"></script> "
            ]
          },
          "metadata": {}
        },
        {
          "output_type": "stream",
          "name": "stdout",
          "text": [
            "Saving recipe_file_26.json to recipe_file_26.json\n"
          ]
        }
      ]
    },
    {
      "cell_type": "markdown",
      "source": [
        "# **2b. Read Input Text File (Using current saved file)**"
      ],
      "metadata": {
        "id": "Pk-vdOTkTLmX"
      }
    },
    {
      "cell_type": "code",
      "execution_count": null,
      "metadata": {
        "id": "Nj76-P60K504"
      },
      "outputs": [],
      "source": [
        "# open text file in read mode\n",
        "text_file = open('important_files/input_text.txt', 'rb')\n",
        "text = text_file.read().decode(errors='replace')\n",
        "\n",
        "# close files\n",
        "text_file.close()\n"
      ]
    },
    {
      "cell_type": "markdown",
      "source": [
        "# **Unzip important_files.zip**"
      ],
      "metadata": {
        "id": "K0EJdIxDTSlP"
      }
    },
    {
      "cell_type": "code",
      "execution_count": null,
      "metadata": {
        "id": "WqcWgSuAME-W"
      },
      "outputs": [],
      "source": [
        "# Unzip important_files.zip into main directory \n",
        "#!unzip important_files.zip\n"
      ]
    },
    {
      "cell_type": "markdown",
      "metadata": {
        "id": "8fmOlnKZXjq7"
      },
      "source": [
        "# **3. Text Cleaning**"
      ]
    },
    {
      "cell_type": "code",
      "execution_count": null,
      "metadata": {
        "id": "cPdKP6pvqYMT"
      },
      "outputs": [],
      "source": [
        "# Text Cleaning\n",
        "\n",
        "# Remove non-ascii characters\n",
        "def remove_non_ascii(text):\n",
        "    return re.sub('[^-*.A-Za-z0-9,! ]+', '', text)\n",
        "\n",
        "# Make the lines into a list  \n",
        "clean_text_lines = []\n",
        "flag = True\n",
        "for line in text.splitlines():\n",
        "    clean_text_lines.append(line.replace(\"\\n\", \"\").strip())   # remove newline character and space\n"
      ]
    },
    {
      "cell_type": "markdown",
      "source": [
        "# **4. Carry Out Division of Categories**"
      ],
      "metadata": {
        "id": "xS31Ws3Gdeyz"
      }
    },
    {
      "cell_type": "code",
      "execution_count": null,
      "metadata": {
        "id": "z9ddhNNvq0Pq"
      },
      "outputs": [],
      "source": [
        "# Read synonyms and recipe template \n",
        "with open('important_files/synonyms.json', 'r') as f:\n",
        "  syn_json_object = json.load(f)\n",
        "\n",
        "with open('important_files/recipe_template.json') as f:\n",
        "  data = json.load(f)\n",
        "\n",
        "# Append the recipe template to recipe_file.json (output json file)\n",
        "with open('important_files/recipe_file.json', 'w') as f:\n",
        "  json.dump(data, f, indent=2)\n",
        "\n",
        "# Read the updated recipe_file.json file\n",
        "with open('important_files/recipe_file.json', 'r') as f:\n",
        "  recipe_json_object = json.load(f)\n",
        "\n",
        "# Carry out division\n",
        "result = []\n",
        "\n",
        "for index, line in enumerate(clean_text_lines):\n",
        "  for key in syn_json_object:\n",
        "    # Division for Tips\n",
        "    if key == \"tips\" and key in line.lower():\n",
        "      result.append((key, index))\n",
        "    # Division for Serving, Ingredient, Instructions, Nutrients\n",
        "    else:\n",
        "      for attribute in syn_json_object[key]:\n",
        "        if (attribute in line.lower()) and (key in recipe_json_object) and (not recipe_json_object[key]):\n",
        "          result.append((key, index))\n",
        "          recipe_json_object[key] = True"
      ]
    },
    {
      "cell_type": "markdown",
      "source": [
        "# **5. Categorize all cleaned text and save into recipe_file.json**"
      ],
      "metadata": {
        "id": "tlVUcc-PgK1U"
      }
    },
    {
      "cell_type": "code",
      "execution_count": null,
      "metadata": {
        "id": "rqvD59YHq4li"
      },
      "outputs": [],
      "source": [
        "# Write to recipe json file\n",
        "\n",
        "def categorize(json_obj, result):\n",
        "    # Variable to flag whether the title has been stored in recipe_file.json file or not\n",
        "    title_done = False\n",
        "\n",
        "    # If there's no serving amount listed in recipe, use first few lines before first category's index as title \n",
        "    first_category_index = result[0][1] # Get the index of the first category\n",
        "    if (first_category_index != 0):\n",
        "      # Store title value in recipe_file.json file     \n",
        "      json_obj[\"title\"] = clean_text_lines[0: first_category_index]\n",
        "      title_done = True\n",
        "\n",
        "    # General formatting \n",
        "    for i, item in enumerate(result):\n",
        "      key = item[0]\n",
        "      index = item[1]\n",
        "      if (key == \"serving\"):\n",
        "        serving_arr = re.findall(r'\\d+', clean_text_lines[index])\n",
        "        \n",
        "        if len(serving_arr) > 0:  # If serving size exists\n",
        "          serving = serving_arr[0]\n",
        "          next_item = result[i + 1]\n",
        "        else:\n",
        "          serving = 0\n",
        "          next_item = result[i]\n",
        "        json_obj[key] = serving\n",
        "\n",
        "        # If title already stored in recipe_file.json file, do not do title formatting\n",
        "        if not title_done:     \n",
        "          # Store title value in recipe_file.json file        \n",
        "          next_index = next_item[1]\n",
        "          json_obj[\"title\"] = clean_text_lines[index + 1 : next_index]\n",
        "      \n",
        "      # When the last important category is reached, exclude page label and\n",
        "      # append the remaining categories and their values \n",
        "      elif ((i + 1) >= len(result)):  \n",
        "        last_index = len(clean_text_lines) - 3  # Exclude page label\n",
        "        json_obj[key] = clean_text_lines[index + 1 : last_index]\n",
        "      else:\n",
        "        next_item = result[i + 1]\n",
        "        next_index = next_item[1]\n",
        "        json_obj[key] = clean_text_lines[index + 1 : next_index]\n",
        "    return json_obj\n",
        "\n",
        "# Clear all non-relevant characters\n",
        "def clear_text(text):\n",
        "    return re.sub('[^-.A-Za-z0-9*,! ]+', '', text)\n",
        "\n",
        "def format_steps(str_list):\n",
        "  ret = []\n",
        "  current = []\n",
        "  for i in range(0, len(str_list)):\n",
        "    string = str_list[i]\n",
        "    if bool(re.match('^[\\.a-zA-Z0-9,! ]*$', string[0])):\n",
        "      current.append(string)\n",
        "    else:\n",
        "      step = \" \".join(current)\n",
        "      ret.append(clear_text(step.strip()))\n",
        "      current = [string]\n",
        "    if i == len(str_list) - 1:\n",
        "      step = \" \".join(current)\n",
        "      ret.append(clear_text(step.strip()))\n",
        "  if len(ret) > 0:\n",
        "    ret.pop(0)\n",
        "  return ret\n",
        "\n",
        "# Join strings in the same category\n",
        "def join_string(json_obj, key):\n",
        "  # formatting title\n",
        "  if key in json_obj:\n",
        "    key_list = json_obj[key]\n",
        "    if (key == \"instruction\") or (key == \"tips\") or (key == \"ingredient\"):\n",
        "      json_obj[key] = format_steps(key_list)\n",
        "    else:\n",
        "      json_obj[key] = ' '.join(key_list)\n",
        "  return json_obj\n",
        "\n",
        "# Append categorized strings to their respective category keys \n",
        "# using the template in recipe_template.json\n",
        "with open('important_files/recipe_template.json') as f:\n",
        "    data = json.load(f)\n",
        "    data = categorize(data, result)\n",
        "    data = join_string(data, \"title\")\n",
        "    data = join_string(data, \"ingredient\")\n",
        "    data = join_string(data, \"instruction\")\n",
        "    data = join_string(data, \"tips\")\n",
        "\n",
        "# Save updated json to recipe_file.json\n",
        "with open('important_files/recipe_file.json', 'w') as f:\n",
        "    json.dump(data, f, indent=2)\n",
        "        "
      ]
    },
    {
      "cell_type": "markdown",
      "source": [
        "# **6. Format nutrients value in recipe_file.json file**"
      ],
      "metadata": {
        "id": "2vJSaATRgXCa"
      }
    },
    {
      "cell_type": "code",
      "execution_count": null,
      "metadata": {
        "id": "PGBXoQKDvaNQ"
      },
      "outputs": [],
      "source": [
        "# Format nutrients element into properly formatted JSON object\n",
        "\n",
        "with open('important_files/recipe_file.json', 'r') as f:\n",
        "    i = 0\n",
        "    result = {}\n",
        "    json_object = json.load(f)\n",
        "    nutrient = json_object[\"nutrient\"]\n",
        "  \n",
        "   # Loop through all different nutrients\n",
        "    while i < len(nutrient):\n",
        "        searched_val = re.search(r\"\\d\", nutrient[i])  # Search for a numeric value in each nutrient\n",
        "\n",
        "        # If the element contains key and value (split and separate into key and value)\n",
        "        if searched_val: \n",
        "            index_firstnum = searched_val.start()\n",
        "            if index_firstnum != 0: # both key and value\n",
        "                key = nutrient[i][0:(index_firstnum-1)].strip() \n",
        "                value = nutrient[i][index_firstnum:len(nutrient[i])].strip()\n",
        "                \n",
        "                # Fix when bracket is in value instead of key\n",
        "                if key[len(key)-1] == \"(\":\n",
        "                    key = key[:len(key)]\n",
        "                    right_brack_index = value.find(\")\")\n",
        "                    key = key + value[:right_brack_index+1]\n",
        "                    value = value[right_brack_index+1:len(value)].strip()\n",
        "                i += 1\n",
        "                \n",
        "        else: # only key (make into key)\n",
        "            # Fix issue where 0mg is read as Omg \n",
        "            if \"Omg\" in nutrient[i]: \n",
        "                split = nutrient[i].split(\" \", 1)\n",
        "                key = split[0]\n",
        "                value = \"0mg\"\n",
        "                i += 1\n",
        "            else:\n",
        "                if (i >= len(nutrient)) or ((i + 1) >= len(nutrient)):\n",
        "                  break # Break while loop if a word has been identified wrongly as a nutrient key\n",
        "                key = nutrient[i]\n",
        "                value = nutrient[i + 1]\n",
        "                i += 2\n",
        "        result[key] = value               \n",
        "    \n",
        "    # Replace value of nutrient key with correctly formatted JSON \n",
        "    json_object[\"nutrient\"] = result\n",
        "\n",
        "# Save updated json to recipe_file.json\n",
        "with open('important_files/recipe_file.json', 'w') as f:\n",
        "    json.dump(json_object, f, indent=2)\n"
      ]
    },
    {
      "cell_type": "code",
      "execution_count": null,
      "metadata": {
        "id": "wl9IvafdB63V"
      },
      "outputs": [],
      "source": [
        "# Nutrient"
      ]
    }
  ],
  "metadata": {
    "colab": {
      "collapsed_sections": [],
      "name": "FIT3170.ipynb",
      "provenance": [],
      "include_colab_link": true
    },
    "kernelspec": {
      "display_name": "Python 3",
      "name": "python3"
    },
    "language_info": {
      "name": "python"
    }
  },
  "nbformat": 4,
  "nbformat_minor": 0
}